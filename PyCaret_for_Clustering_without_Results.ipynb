{
  "nbformat": 4,
  "nbformat_minor": 0,
  "metadata": {
    "colab": {
      "provenance": [],
      "include_colab_link": true
    },
    "kernelspec": {
      "display_name": "Python 3",
      "language": "python",
      "name": "python3"
    },
    "language_info": {
      "codemirror_mode": {
        "name": "ipython",
        "version": 3
      },
      "file_extension": ".py",
      "mimetype": "text/x-python",
      "name": "python",
      "nbconvert_exporter": "python",
      "pygments_lexer": "ipython3",
      "version": "3.8.5"
    }
  },
  "cells": [
    {
      "cell_type": "markdown",
      "metadata": {
        "id": "view-in-github",
        "colab_type": "text"
      },
      "source": [
        "<a href=\"https://colab.research.google.com/github/Rochika10/Machine-Learning_using_Pycaret-/blob/main/PyCaret_for_Clustering_without_Results.ipynb\" target=\"_parent\"><img src=\"https://colab.research.google.com/assets/colab-badge.svg\" alt=\"Open In Colab\"/></a>"
      ]
    },
    {
      "cell_type": "markdown",
      "metadata": {
        "id": "7nQSRI4Dim1Y"
      },
      "source": [
        "---\n",
        "# **PyCaret for Clustering**\n",
        "---\n",
        "- It is a bundle of many Machine Learning algorithms.\n",
        "- Only three lines of code is required to compare 20 ML models.\n",
        "- Pycaret is available for:\n",
        "    - Classification\n",
        "    - Regression\n",
        "    - Clustering\n",
        "\n",
        "---\n",
        "\n",
        "### **Self learning resource**\n",
        "1. Tutorial on Pycaret **<a href=\"https://pycaret.readthedocs.io/en/latest/tutorials.html\"> Click Here</a>**\n",
        "\n",
        "2. Documentation on Pycaret-Clustering: **<a href=\"https://pycaret.readthedocs.io/en/latest/api/clustering.html\"> Click Here </a>**\n",
        "\n",
        "---\n"
      ]
    },
    {
      "cell_type": "markdown",
      "metadata": {
        "id": "A30y-VtNim1h"
      },
      "source": [
        "### **(a) Install Pycaret**"
      ]
    },
    {
      "cell_type": "code",
      "metadata": {
        "id": "cF_mSA9Xim1j"
      },
      "source": [
        "!pip install pycaret &> /dev/null\n",
        "print (\"Pycaret installed sucessfully!!\")"
      ],
      "execution_count": null,
      "outputs": []
    },
    {
      "cell_type": "markdown",
      "metadata": {
        "id": "UjvBYy0Lim1m"
      },
      "source": [
        "### **(b) Get the version of the pycaret**"
      ]
    },
    {
      "cell_type": "code",
      "metadata": {
        "id": "NHB2KMhZim1o"
      },
      "source": [
        "from pycaret.utils import version\n",
        "version()"
      ],
      "execution_count": null,
      "outputs": []
    },
    {
      "cell_type": "markdown",
      "metadata": {
        "id": "BTLd3s--im1c"
      },
      "source": [
        "---\n",
        "# **1. Clustering - Part 1 (Kmean Clustering)**\n",
        "---\n",
        "### **1.1 Get the list of datasets available in pycaret (55)**"
      ]
    },
    {
      "cell_type": "code",
      "metadata": {
        "id": "veBU-f21im1x"
      },
      "source": [
        "from pycaret.datasets import get_data\n",
        "dataSets = get_data('index')"
      ],
      "execution_count": null,
      "outputs": []
    },
    {
      "cell_type": "markdown",
      "metadata": {
        "id": "YqoQ7k1FQ1TV"
      },
      "source": [
        "---\n",
        "### **1.2 Get the \"jewellery\" dataset**\n",
        "---"
      ]
    },
    {
      "cell_type": "code",
      "metadata": {
        "id": "41abL1k-im10",
        "scrolled": true
      },
      "source": [
        "jewelleryDataSet = get_data(\"jewellery\")    # SN is 30\n",
        "# This is unsupervised dataset.\n",
        "# No target is defined."
      ],
      "execution_count": null,
      "outputs": []
    },
    {
      "cell_type": "markdown",
      "metadata": {
        "id": "nRWYsJNVim1z"
      },
      "source": [
        "---\n",
        "### **1.3 Download the \"jewellery\" dataset to local system**\n",
        "---"
      ]
    },
    {
      "cell_type": "code",
      "metadata": {
        "id": "tN1O3vEZi963"
      },
      "source": [
        "jewelleryDataSet.to_csv(\"jewelleryDataSet.csv\")\n",
        "from google.colab import files\n",
        "#files.download('jewelleryDataSet.csv')"
      ],
      "execution_count": null,
      "outputs": []
    },
    {
      "cell_type": "markdown",
      "metadata": {
        "id": "E3BNV7YLim12"
      },
      "source": [
        "  ---\n",
        "### **1.4 \"Parameter setting\"  for clustering model**\n",
        "##### **Train/Test division, applying data pre-processing** {Sampling, Normalization, Transformation, PCA, Handaling of Outliers, Feature Selection}\n",
        "---"
      ]
    },
    {
      "cell_type": "code",
      "metadata": {
        "id": "c6KthRB9im14"
      },
      "source": [
        "from pycaret.clustering import *\n",
        "kMeanClusteringParameters = setup(jewelleryDataSet)\n",
        "# Re-run the code if any error occur"
      ],
      "execution_count": null,
      "outputs": []
    },
    {
      "cell_type": "markdown",
      "metadata": {
        "id": "Kaevs6ROim18"
      },
      "source": [
        "---\n",
        "### **1.5 Building \"KMean\" clustering model**\n",
        "---"
      ]
    },
    {
      "cell_type": "code",
      "metadata": {
        "id": "XmPJbrOXim19"
      },
      "source": [
        "KMeanClusteringModel = create_model('kmeans', num_clusters=4)"
      ],
      "execution_count": null,
      "outputs": []
    },
    {
      "cell_type": "markdown",
      "metadata": {
        "id": "w8BLSpegim1_"
      },
      "source": [
        "---\n",
        "### **1.6 Assign Model - \"Assign the labels\" to the dataset**\n",
        "---\n",
        "\n"
      ]
    },
    {
      "cell_type": "code",
      "metadata": {
        "id": "QPY6bvTsim1_"
      },
      "source": [
        "kMeanPrediction = assign_model(KMeanClusteringModel)\n",
        "kMeanPrediction"
      ],
      "execution_count": null,
      "outputs": []
    },
    {
      "cell_type": "markdown",
      "metadata": {
        "id": "B2r61OBMs1N6"
      },
      "source": [
        "---\n",
        "### **1.7 \"Saving\" the result**\n",
        "---\n",
        "\n"
      ]
    },
    {
      "cell_type": "code",
      "metadata": {
        "id": "fLFB8lIEw7tO"
      },
      "source": [
        "kMeanPrediction.to_csv(\"KMeanResult.csv\")\n",
        "print(\"Result file save sucessfully!!\")"
      ],
      "execution_count": null,
      "outputs": []
    },
    {
      "cell_type": "markdown",
      "metadata": {
        "id": "JpYOsl02fKdz"
      },
      "source": [
        "---\n",
        "### **1.8 Download the \"result file\" to user local system**\n",
        "---"
      ]
    },
    {
      "cell_type": "code",
      "metadata": {
        "id": "egid_WXNfKd5"
      },
      "source": [
        "from google.colab import files\n",
        "#files.download('KMeanResult.csv')      # Uncomment this line\n",
        "# Open and Explore result file (KMeanResult.csv)."
      ],
      "execution_count": null,
      "outputs": []
    },
    {
      "cell_type": "markdown",
      "metadata": {
        "id": "lNOYI6lAb3Iy"
      },
      "source": [
        "---\n",
        "# **2. Clustering: Saving and Loading the Model**\n",
        "---\n",
        "### **2.1 Save the \"trained model\"**\n",
        "---"
      ]
    },
    {
      "cell_type": "code",
      "metadata": {
        "id": "BTQqMaq_b3Iy"
      },
      "source": [
        "x = save_model(KMeanClusteringModel, 'kMeanClusteringModelFile')"
      ],
      "execution_count": null,
      "outputs": []
    },
    {
      "cell_type": "markdown",
      "metadata": {
        "id": "S7OBvt9yTY1s"
      },
      "source": [
        "---\n",
        "### **2.2 Download the \"trained model**\n",
        "---"
      ]
    },
    {
      "cell_type": "code",
      "metadata": {
        "id": "N2zEkJ1cTY1t"
      },
      "source": [
        "from google.colab import files\n",
        "#files.download('kMeanClusteringModelFile.pkl')      # Uncomment this line"
      ],
      "execution_count": null,
      "outputs": []
    },
    {
      "cell_type": "markdown",
      "metadata": {
        "id": "16b9zwS3b3Iz"
      },
      "source": [
        "---\n",
        "### **2.3 Load the model**\n",
        "---\n",
        "##### Use it, while working on **\"Anaconda/Jupyter notebook\"** on local machine"
      ]
    },
    {
      "cell_type": "code",
      "metadata": {
        "id": "z5KcVsi_b3Iz"
      },
      "source": [
        "KMeanClusteringModel1 = load_model('kMeanClusteringModelFile')"
      ],
      "execution_count": null,
      "outputs": []
    },
    {
      "cell_type": "markdown",
      "metadata": {
        "id": "EWwfAKm9VtbW"
      },
      "source": [
        "---\n",
        "### **2.4 Upload and Load the trained model to \"Colab Environment\"**\n",
        "---\n",
        "##### **Upload the trained model**"
      ]
    },
    {
      "cell_type": "code",
      "metadata": {
        "id": "me-SdPgUVtbX"
      },
      "source": [
        "from google.colab import files\n",
        "#files.upload()                     # Uncomment this line"
      ],
      "execution_count": null,
      "outputs": []
    },
    {
      "cell_type": "markdown",
      "metadata": {
        "id": "1Ut_UVcUXw3L"
      },
      "source": [
        "##### **Load the trained model**"
      ]
    },
    {
      "cell_type": "code",
      "metadata": {
        "id": "tjTW7xtHXw3O"
      },
      "source": [
        "#KMeanClusteringModel1 = load_model('kMeanClusteringModelFile (1)')"
      ],
      "execution_count": null,
      "outputs": []
    },
    {
      "cell_type": "markdown",
      "metadata": {
        "id": "9GWuAHd7xQ8i"
      },
      "source": [
        "---\n",
        "# **3. Clustering: Cluster the new dataset (Unseen Data)**\n",
        "---\n",
        "### **3.1 Select some data or upload user dataset file**"
      ]
    },
    {
      "cell_type": "code",
      "metadata": {
        "id": "PDSIpXdjvy-8"
      },
      "source": [
        "# Select top 10 rows\n",
        "newData = get_data(\"jewellery\").iloc[:10]"
      ],
      "execution_count": null,
      "outputs": []
    },
    {
      "cell_type": "markdown",
      "metadata": {
        "id": "PSV8aKNnb3I3"
      },
      "source": [
        "---\n",
        "### **3.2 Make prediction on the new dataset (Unseen Data)**\n",
        "---"
      ]
    },
    {
      "cell_type": "code",
      "metadata": {
        "id": "jeWv6y4Xb3I3"
      },
      "source": [
        "newPredictions = predict_model(KMeanClusteringModel, data = newData)\n",
        "newPredictions"
      ],
      "execution_count": null,
      "outputs": []
    },
    {
      "cell_type": "markdown",
      "metadata": {
        "id": "2HZaEiiwb3I3"
      },
      "source": [
        "---\n",
        "### **3.3 Save the prediction result to csv**\n",
        "---"
      ]
    },
    {
      "cell_type": "code",
      "metadata": {
        "id": "MmCsLouDb3I4"
      },
      "source": [
        "newPredictions.to_csv(\"NewPredictions.csv\")\n",
        "print(\"Result file save sucessfully!!\")"
      ],
      "execution_count": null,
      "outputs": []
    },
    {
      "cell_type": "markdown",
      "metadata": {
        "id": "D9Y1VxIsFuqn"
      },
      "source": [
        "---\n",
        "# **4. Clustering: Ploting the Cluster**\n",
        "---\n",
        "```\n",
        "- Cluster PCA Plot (2d)          'cluster'\n",
        "- Cluster TSnE (3d)              'tsne'\n",
        "- Elbow Plot                     'elbow'\n",
        "- Silhouette Plot                'silhouette'\n",
        "- Distance Plot                  'distance'\n",
        "- Distribution Plot              'distribution'\n",
        "```"
      ]
    },
    {
      "cell_type": "markdown",
      "metadata": {
        "id": "yuCOkjBs0ZXw"
      },
      "source": [
        "---\n",
        "### **4.1 Evaluate Cluster Model**\n",
        "---"
      ]
    },
    {
      "cell_type": "code",
      "metadata": {
        "id": "FPiBWwaAFuqp"
      },
      "source": [
        "evaluate_model(KMeanClusteringModel)"
      ],
      "execution_count": null,
      "outputs": []
    },
    {
      "cell_type": "markdown",
      "metadata": {
        "id": "6A52f46Jb3I5"
      },
      "source": [
        "---\n",
        "### **4.2 2D-plot for Cluster**\n",
        "---"
      ]
    },
    {
      "cell_type": "code",
      "metadata": {
        "id": "YMxxIMBRb3I5"
      },
      "source": [
        "plot_model(KMeanClusteringModel, plot='cluster')"
      ],
      "execution_count": null,
      "outputs": []
    },
    {
      "cell_type": "markdown",
      "metadata": {
        "id": "edPeXVneb3I6"
      },
      "source": [
        "---\n",
        "### **4.3 3D-plot for Cluster**\n",
        "---"
      ]
    },
    {
      "cell_type": "code",
      "metadata": {
        "scrolled": true,
        "id": "mQiKiGlPb3I6"
      },
      "source": [
        "plot_model(KMeanClusteringModel, plot = 'tsne')"
      ],
      "execution_count": null,
      "outputs": []
    },
    {
      "cell_type": "markdown",
      "metadata": {
        "id": "g5qRklVXb3I6"
      },
      "source": [
        "---\n",
        "### **4.4 Elbow Plot**\n",
        "---"
      ]
    },
    {
      "cell_type": "code",
      "metadata": {
        "id": "31C9zkmPb3I7"
      },
      "source": [
        "plot_model(KMeanClusteringModel, plot = 'elbow')"
      ],
      "execution_count": null,
      "outputs": []
    },
    {
      "cell_type": "markdown",
      "metadata": {
        "id": "wSuwq3Q3b3I7"
      },
      "source": [
        "---\n",
        "### **4.5 Silhouette Plot**\n",
        "---"
      ]
    },
    {
      "cell_type": "code",
      "metadata": {
        "id": "VczW8SRob3I7"
      },
      "source": [
        "plot_model(KMeanClusteringModel, plot = 'silhouette')"
      ],
      "execution_count": null,
      "outputs": []
    },
    {
      "cell_type": "markdown",
      "metadata": {
        "id": "8CP8xTeYb3I8"
      },
      "source": [
        "---\n",
        "### **4.6 Distribution Plot**\n",
        "---"
      ]
    },
    {
      "cell_type": "code",
      "metadata": {
        "id": "EANDd4yib3I8"
      },
      "source": [
        "plot_model(KMeanClusteringModel, plot = 'distribution')"
      ],
      "execution_count": null,
      "outputs": []
    },
    {
      "cell_type": "markdown",
      "metadata": {
        "id": "bMkeiv7pb3I9"
      },
      "source": [
        "---\n",
        "### **4.7 Distance Plot**\n",
        "---"
      ]
    },
    {
      "cell_type": "code",
      "metadata": {
        "id": "IvDzqdvMb3I9"
      },
      "source": [
        "plot_model(KMeanClusteringModel, plot = 'distance')"
      ],
      "execution_count": null,
      "outputs": []
    },
    {
      "cell_type": "markdown",
      "metadata": {
        "id": "NWwZUES8b3I9"
      },
      "source": [
        "---\n",
        "# **5. Compelete Code for Clustering (KMean)**\n",
        "---\n",
        "### **5.1 For Cluster = 3**"
      ]
    },
    {
      "cell_type": "code",
      "metadata": {
        "id": "P6_gGI4mb3I-"
      },
      "source": [
        "from pycaret.datasets import get_data\n",
        "from pycaret.clustering import *\n",
        "\n",
        "jewelleryDataSet = get_data('jewellery')\n",
        "setup(data = jewelleryDataSet)\n",
        "x = create_model('kmeans', num_clusters = 3)"
      ],
      "execution_count": null,
      "outputs": []
    },
    {
      "cell_type": "markdown",
      "metadata": {
        "id": "Lc-CBrxvb3I-"
      },
      "source": [
        "---\n",
        "### **5.2 For Cluster = 4**\n",
        "---"
      ]
    },
    {
      "cell_type": "code",
      "metadata": {
        "id": "rNS_YT9kb3I_"
      },
      "source": [
        "from pycaret.datasets import get_data\n",
        "from pycaret.clustering import *\n",
        "\n",
        "jewelleryDataSet = get_data('jewellery')\n",
        "setup(data = jewelleryDataSet)\n",
        "x = create_model('kmeans', num_clusters = 4)"
      ],
      "execution_count": null,
      "outputs": []
    },
    {
      "cell_type": "markdown",
      "metadata": {
        "id": "XZyx5JF_too4"
      },
      "source": [
        "---\n",
        "### **5.3 Other Clustering Algorithms**\n",
        "---\n",
        "```\n",
        "- K-Means clustering                 'kmeans'\n",
        "- Affinity Propagation               'ap'\n",
        "- Mean shift clustering              'meanshift'\n",
        "- Spectral Clustering                'sc'\n",
        "- Agglomerative Clustering           'hclust'\n",
        "- Density-Based Spatial Clustering   'dbscan'\n",
        "- OPTICS Clustering                  'optics'\n",
        "- Birch Clustering                   'birch'\n",
        "- K-Modes clustering                 'kmodes'\n",
        "```"
      ]
    },
    {
      "cell_type": "markdown",
      "metadata": {
        "id": "zUfHO4wKim1_"
      },
      "source": [
        "---\n",
        "# **6. Clustering: Apply \"Data Preprocessing\"**\n",
        "---\n",
        "### **Read the Dataset**"
      ]
    },
    {
      "cell_type": "code",
      "metadata": {
        "id": "PlbzvU-Ib3I_"
      },
      "source": [
        "from pycaret.clustering import *\n",
        "from pycaret.datasets import get_data\n",
        "\n",
        "jewelleryDataSet = get_data('jewellery')"
      ],
      "execution_count": null,
      "outputs": []
    },
    {
      "cell_type": "markdown",
      "metadata": {
        "id": "Au1ZSVL3b3JA"
      },
      "source": [
        "---\n",
        "### **6.1 Model Performance using \"Normalization\"**\n",
        "---\n",
        "### **6.1.1 Elbow Plot**\n"
      ]
    },
    {
      "cell_type": "code",
      "metadata": {
        "id": "X9zS6wx3EUDf"
      },
      "source": [
        "setup(data = jewelleryDataSet, normalize = True, normalize_method = 'zscore')\n",
        "x = create_model('kmeans')\n",
        "plot_model(x, plot = 'elbow')"
      ],
      "execution_count": null,
      "outputs": []
    },
    {
      "cell_type": "markdown",
      "metadata": {
        "id": "HD79yrviG7iJ"
      },
      "source": [
        "---\n",
        "### **6.1.2 For Cluster = 3**\n",
        "---"
      ]
    },
    {
      "cell_type": "code",
      "metadata": {
        "id": "eLPoqBgEb3JA"
      },
      "source": [
        "setup(data = jewelleryDataSet, normalize = True, normalize_method = 'zscore')\n",
        "x = create_model('kmeans', num_clusters = 3)"
      ],
      "execution_count": null,
      "outputs": []
    },
    {
      "cell_type": "markdown",
      "metadata": {
        "id": "fAwwYRDAD6pj"
      },
      "source": [
        "---\n",
        "### **6.1.3 For Cluster = 4**\n",
        "---"
      ]
    },
    {
      "cell_type": "code",
      "metadata": {
        "id": "GtYogi-JD6po"
      },
      "source": [
        "setup(data = jewelleryDataSet, normalize = True, normalize_method = 'zscore')\n",
        "x = create_model('kmeans', num_clusters = 4)"
      ],
      "execution_count": null,
      "outputs": []
    },
    {
      "cell_type": "markdown",
      "metadata": {
        "id": "9jTn3FsZD7xC"
      },
      "source": [
        "---\n",
        "### **6.1.4 For Cluster = 5**\n",
        "---"
      ]
    },
    {
      "cell_type": "code",
      "metadata": {
        "id": "JWQdC4K8D7xD"
      },
      "source": [
        "setup(data = jewelleryDataSet, normalize = True, normalize_method = 'zscore')\n",
        "x = create_model('kmeans', num_clusters = 5)"
      ],
      "execution_count": null,
      "outputs": []
    },
    {
      "cell_type": "markdown",
      "metadata": {
        "id": "AtxbZfXYUDAn"
      },
      "source": [
        "---\n",
        "### **6.1.5 3D Plot for Cluster = 5**\n",
        "---"
      ]
    },
    {
      "cell_type": "code",
      "metadata": {
        "id": "3fuD_nl_UDRo"
      },
      "source": [
        "setup(data = jewelleryDataSet, normalize = True, normalize_method = 'zscore')\n",
        "x = create_model('kmeans', num_clusters = 5)\n",
        "plot_model(x, plot = 'tsne')"
      ],
      "execution_count": null,
      "outputs": []
    },
    {
      "cell_type": "markdown",
      "metadata": {
        "id": "iBYAlAA-0DYh"
      },
      "source": [
        "---\n",
        "### **6.2 Model Performance using \"Transformation\"**\n",
        "---\n",
        "\n",
        "### **6.2.1 Elbow Plot**\n"
      ]
    },
    {
      "cell_type": "code",
      "metadata": {
        "id": "imiaQks_0DYn"
      },
      "source": [
        "setup(data = jewelleryDataSet, transformation = True, transformation_method = 'yeo-johnson')\n",
        "x = create_model('kmeans')\n",
        "plot_model(x, plot = 'elbow')"
      ],
      "execution_count": null,
      "outputs": []
    },
    {
      "cell_type": "markdown",
      "metadata": {
        "id": "YwAEcPe81V-H"
      },
      "source": [
        "---\n",
        "### **6.2.2 For Cluster = 3**\n",
        "---"
      ]
    },
    {
      "cell_type": "code",
      "metadata": {
        "id": "YAjWTeL60DYi"
      },
      "source": [
        "setup(data = jewelleryDataSet, transformation = True, transformation_method = 'yeo-johnson')\n",
        "x = create_model('kmeans', num_clusters = 3)"
      ],
      "execution_count": null,
      "outputs": []
    },
    {
      "cell_type": "markdown",
      "metadata": {
        "id": "4S1De4780DYk"
      },
      "source": [
        "---\n",
        "### **6.2.3 For Cluster = 4**\n",
        "---"
      ]
    },
    {
      "cell_type": "code",
      "metadata": {
        "id": "vdKGFA270DYk"
      },
      "source": [
        "setup(data = jewelleryDataSet, transformation = True, transformation_method = 'yeo-johnson')\n",
        "x = create_model('kmeans', num_clusters = 4)"
      ],
      "execution_count": null,
      "outputs": []
    },
    {
      "cell_type": "markdown",
      "metadata": {
        "id": "sXMRGzvh0DYk"
      },
      "source": [
        "---\n",
        "### **6.2.4 For Cluster = 5**\n",
        "---"
      ]
    },
    {
      "cell_type": "code",
      "metadata": {
        "id": "7srD2RG80DYl"
      },
      "source": [
        "setup(data = jewelleryDataSet, transformation = True, transformation_method = 'yeo-johnson')\n",
        "x = create_model('kmeans', num_clusters = 5)"
      ],
      "execution_count": null,
      "outputs": []
    },
    {
      "cell_type": "markdown",
      "metadata": {
        "id": "YWdGYNJCC8_h"
      },
      "source": [
        "---\n",
        "### **6.3 Model Performance using \"PCA\"**\n",
        "---\n",
        "### **6.3.1 Elbow Plot**"
      ]
    },
    {
      "cell_type": "code",
      "metadata": {
        "id": "y8kaGr8lC8_n"
      },
      "source": [
        "setup(data = jewelleryDataSet, pca = True, pca_method = 'linear')\n",
        "x = create_model('kmeans')\n",
        "plot_model(x, plot = 'elbow')"
      ],
      "execution_count": null,
      "outputs": []
    },
    {
      "cell_type": "markdown",
      "metadata": {
        "id": "mtB9y3liC8_p"
      },
      "source": [
        "---\n",
        "### **6.3.2 For Cluster = 3**\n",
        "---"
      ]
    },
    {
      "cell_type": "code",
      "metadata": {
        "id": "cxX_g5pRC8_p"
      },
      "source": [
        "setup(data = jewelleryDataSet, pca = True, pca_method = 'linear')\n",
        "x = create_model('kmeans', num_clusters = 3)"
      ],
      "execution_count": null,
      "outputs": []
    },
    {
      "cell_type": "markdown",
      "metadata": {
        "id": "ZDSPHk_oC8_r"
      },
      "source": [
        "---\n",
        "### **6.3.3 For Cluster = 4**\n",
        "---"
      ]
    },
    {
      "cell_type": "code",
      "metadata": {
        "id": "t_Kjm5F5C8_r"
      },
      "source": [
        "setup(data = jewelleryDataSet, pca = True, pca_method = 'linear')\n",
        "x = create_model('kmeans', num_clusters = 4)"
      ],
      "execution_count": null,
      "outputs": []
    },
    {
      "cell_type": "markdown",
      "metadata": {
        "id": "9gNw9wHqC8_t"
      },
      "source": [
        "---\n",
        "### **6.3.4 For Cluster = 5**\n",
        "---"
      ]
    },
    {
      "cell_type": "code",
      "metadata": {
        "id": "F0-TALoxC8_u"
      },
      "source": [
        "setup(data = jewelleryDataSet, pca = True, pca_method = 'linear')\n",
        "x = create_model('kmeans', num_clusters = 5)"
      ],
      "execution_count": null,
      "outputs": []
    },
    {
      "cell_type": "markdown",
      "metadata": {
        "id": "QMtVqTQ6b3JB"
      },
      "source": [
        "---\n",
        "### **6.4 Model Performance using \"Transformation\" + \"Normalization\"**\n",
        "---\n",
        "### **6.4.1 Elbow Plot**"
      ]
    },
    {
      "cell_type": "code",
      "metadata": {
        "id": "UUeONHwyb3JB"
      },
      "source": [
        "setup(data = jewelleryDataSet, transformation = True, normalize = True,\n",
        "      normalize_method = 'zscore', transformation_method = 'yeo-johnson')\n",
        "x = create_model('kmeans')\n",
        "plot_model(x, plot = 'elbow')"
      ],
      "execution_count": null,
      "outputs": []
    },
    {
      "cell_type": "markdown",
      "metadata": {
        "id": "fDoyKJGzqC3s"
      },
      "source": [
        "---\n",
        "### **6.4.2 For Cluster = 3**\n",
        "---"
      ]
    },
    {
      "cell_type": "code",
      "metadata": {
        "id": "f8inz47RqC3u"
      },
      "source": [
        "setup(data = jewelleryDataSet, transformation = True, normalize = True,\n",
        "      normalize_method = 'zscore', transformation_method = 'yeo-johnson')\n",
        "x = create_model('kmeans', num_clusters = 3)"
      ],
      "execution_count": null,
      "outputs": []
    },
    {
      "cell_type": "markdown",
      "metadata": {
        "id": "uDoASHc-qC3x"
      },
      "source": [
        "---\n",
        "### **6.4.3 For Cluster = 4**\n",
        "---"
      ]
    },
    {
      "cell_type": "code",
      "metadata": {
        "id": "nb3-WWmLqC3z"
      },
      "source": [
        "setup(data = jewelleryDataSet, transformation = True, normalize = True,\n",
        "      normalize_method = 'zscore', transformation_method = 'yeo-johnson')\n",
        "x = create_model('kmeans', num_clusters = 4)"
      ],
      "execution_count": null,
      "outputs": []
    },
    {
      "cell_type": "markdown",
      "metadata": {
        "id": "xc70J9FBqC30"
      },
      "source": [
        "---\n",
        "### **6.4.4 For Cluster = 5**\n",
        "---"
      ]
    },
    {
      "cell_type": "code",
      "metadata": {
        "id": "9XeS1x64qC31"
      },
      "source": [
        "setup(data = jewelleryDataSet, transformation = True, normalize = True,\n",
        "      normalize_method = 'zscore', transformation_method = 'yeo-johnson')\n",
        "x = create_model('kmeans', num_clusters = 5)"
      ],
      "execution_count": null,
      "outputs": []
    },
    {
      "cell_type": "markdown",
      "metadata": {
        "id": "IT6y0pnIEVXO"
      },
      "source": [
        "---\n",
        "### **6.5 Model Performance using \"Transformation\" + \"Normalization\" + \"PCA\"**\n",
        "---\n",
        "### **6.5.1 Elbow Plot**"
      ]
    },
    {
      "cell_type": "code",
      "metadata": {
        "id": "CfB1ht6pEVXP"
      },
      "source": [
        "setup(data = jewelleryDataSet, transformation = True, normalize = True, pca = True,\n",
        "      normalize_method = 'zscore', transformation_method = 'yeo-johnson', pca_method = 'linear')\n",
        "x = create_model('kmeans')\n",
        "plot_model(x, plot = 'elbow')"
      ],
      "execution_count": null,
      "outputs": []
    },
    {
      "cell_type": "markdown",
      "metadata": {
        "id": "bI2xYlBIEVXQ"
      },
      "source": [
        "---\n",
        "### **6.5.2 For Cluster = 3**\n",
        "---"
      ]
    },
    {
      "cell_type": "code",
      "metadata": {
        "id": "gVLZcptOEVXS"
      },
      "source": [
        "setup(data = jewelleryDataSet, transformation = True, normalize = True, pca = True,\n",
        "      normalize_method = 'zscore', transformation_method = 'yeo-johnson', pca_method = 'linear')\n",
        "x = create_model('kmeans', num_clusters = 3)"
      ],
      "execution_count": null,
      "outputs": []
    },
    {
      "cell_type": "markdown",
      "metadata": {
        "id": "O3Yo5E-AEVXT"
      },
      "source": [
        "---\n",
        "### **6.5.3 For Cluster = 4**\n",
        "---"
      ]
    },
    {
      "cell_type": "code",
      "metadata": {
        "id": "Suc_XuG0EVXT"
      },
      "source": [
        "setup(data = jewelleryDataSet, transformation = True, normalize = True, pca = True,\n",
        "      normalize_method = 'zscore', transformation_method = 'yeo-johnson', pca_method = 'linear')\n",
        "x = create_model('kmeans', num_clusters = 4)"
      ],
      "execution_count": null,
      "outputs": []
    },
    {
      "cell_type": "markdown",
      "metadata": {
        "id": "ZaT2yffFEVXU"
      },
      "source": [
        "---\n",
        "### **6.5.4 For Cluster = 5**\n",
        "---"
      ]
    },
    {
      "cell_type": "code",
      "metadata": {
        "id": "7FP7i0sxEVXU"
      },
      "source": [
        "setup(data = jewelleryDataSet, transformation = True, normalize = True, pca = True,\n",
        "      normalize_method = 'zscore', transformation_method = 'yeo-johnson', pca_method = 'linear')\n",
        "x = create_model('kmeans', num_clusters = 5)"
      ],
      "execution_count": null,
      "outputs": []
    },
    {
      "cell_type": "markdown",
      "metadata": {
        "id": "NPZElw5tb3JD"
      },
      "source": [
        "---\n",
        "# **7. Other Clustering Techniques**\n",
        "---\n",
        "```\n",
        "K-Means clustering                 'kmeans'\n",
        "Affinity Propagation               'ap'\n",
        "Mean shift clustering              'meanshift'\n",
        "Spectral Clustering                'sc'\n",
        "Agglomerative Clustering           'hclust'\n",
        "Density-Based Spatial Clustering   'dbscan'\n",
        "OPTICS Clustering                  'optics'\n",
        "Birch Clustering                   'birch'\n",
        "K-Modes clustering                 'kmodes'\n",
        "```"
      ]
    },
    {
      "cell_type": "markdown",
      "metadata": {
        "id": "rAOoe4H2b3JE"
      },
      "source": [
        "---\n",
        "### **7.1 Buildign Agglomerative (Hierarchical) clustering model**\n",
        "---"
      ]
    },
    {
      "cell_type": "code",
      "metadata": {
        "id": "NkBeuKlEb3JF"
      },
      "source": [
        "from pycaret.datasets import get_data\n",
        "from pycaret.clustering import *\n",
        "\n",
        "jewelleryDataSet = get_data('jewellery')\n",
        "setup(data = jewelleryDataSet)\n",
        "hierarchicalModel = create_model('hclust', num_clusters=3)"
      ],
      "execution_count": null,
      "outputs": []
    },
    {
      "cell_type": "markdown",
      "metadata": {
        "id": "PnyhyJ3WXIQH"
      },
      "source": [
        "---\n",
        "### **7.1.1 Assign Model - \"Assign the labels\" to the dataset**\n",
        "---\n",
        "\n"
      ]
    },
    {
      "cell_type": "code",
      "metadata": {
        "id": "k1jLCA6bXRRi"
      },
      "source": [
        "hierarchicalModelPrediction = assign_model(hierarchicalModel)\n",
        "hierarchicalModelPrediction"
      ],
      "execution_count": null,
      "outputs": []
    },
    {
      "cell_type": "markdown",
      "metadata": {
        "id": "qBufXyJ6b3JF"
      },
      "source": [
        "---\n",
        "### **7.1.2 Evaluate Agglomerative (Hierarchical) Clustering**\n",
        "---"
      ]
    },
    {
      "cell_type": "code",
      "metadata": {
        "scrolled": true,
        "id": "yxxm2PyKb3JG"
      },
      "source": [
        "evaluate_model(hierarchicalModel)"
      ],
      "execution_count": null,
      "outputs": []
    },
    {
      "cell_type": "markdown",
      "metadata": {
        "id": "a68Lnb0Qb3JH"
      },
      "source": [
        "---\n",
        "### **7.2 Density-Based Spatial Clustering**\n",
        "---"
      ]
    },
    {
      "cell_type": "code",
      "metadata": {
        "id": "m9jr3UZOb3JI"
      },
      "source": [
        "from pycaret.datasets import get_data\n",
        "from pycaret.clustering import *\n",
        "\n",
        "jewelleryDataSet = get_data('jewellery')\n",
        "setup(data = jewelleryDataSet)\n",
        "dbscanModel = create_model('dbscan')"
      ],
      "execution_count": null,
      "outputs": []
    },
    {
      "cell_type": "markdown",
      "metadata": {
        "id": "nhjOYqB5b3JJ"
      },
      "source": [
        "---\n",
        "### **7.2.1 Assign Model - \"Assign the labels\" to the dataset**\n",
        "---\n",
        "\n"
      ]
    },
    {
      "cell_type": "code",
      "metadata": {
        "id": "yBsY2zOeb3JK"
      },
      "source": [
        "dbscanModelPrediction = assign_model(dbscanModel)\n",
        "dbscanModelPrediction\n",
        "\n",
        "# Noisy samples are given the label -1 i.e. 'Cluster -1'"
      ],
      "execution_count": null,
      "outputs": []
    },
    {
      "cell_type": "markdown",
      "metadata": {
        "id": "8Me9nIXgb3JM"
      },
      "source": [
        "### **Key Points**"
      ]
    },
    {
      "cell_type": "markdown",
      "metadata": {
        "id": "hz0ZjGodb3JN"
      },
      "source": [
        "- num_clusters not required for some of the clustering Alorithms (Affinity Propagation ('ap'), Mean shift\n",
        "  clustering ('meanshift'), Density-Based Spatial Clustering ('dbscan') and OPTICS Clustering ('optics')).\n",
        "- num_clusters param for these models are automatically determined.\n",
        "\n",
        "- When fit doesn't converge in Affinity Propagation ('ap') model, all datapoints are labelled as -1.\n",
        "\n",
        "- Noisy samples are given the label -1, when using Density-Based Spatial  ('dbscan') or OPTICS Clustering ('optics').\n",
        "\n",
        "- OPTICS ('optics') clustering may take longer training times on large datasets.\n"
      ]
    },
    {
      "cell_type": "markdown",
      "metadata": {
        "id": "hICikRsyim2Z"
      },
      "source": [
        "---\n",
        "# **8. Deploy the model on AWS**\n",
        "---\n",
        "**<a href=\"https://pycaret.readthedocs.io/en/latest/api/clustering.html#pycaret.clustering.deploy_model\">Click Here</a>**"
      ]
    }
  ]
}